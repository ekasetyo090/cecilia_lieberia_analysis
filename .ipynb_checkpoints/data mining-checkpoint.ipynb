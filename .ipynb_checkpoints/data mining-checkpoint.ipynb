{
 "cells": [
  {
   "cell_type": "code",
   "execution_count": 26,
   "id": "dd71b821-febe-443a-bb11-0618a8c95e56",
   "metadata": {},
   "outputs": [
    {
     "data": {
      "text/plain": [
       "True"
      ]
     },
     "execution_count": 26,
     "metadata": {},
     "output_type": "execute_result"
    }
   ],
   "source": [
    "import pandas as pd\n",
    "import numpy as np\n",
    "import time\n",
    "from selenium import webdriver\n",
    "from selenium.webdriver.chrome.service import Service\n",
    "from selenium.webdriver.common.keys import Keys\n",
    "from selenium.webdriver.support.ui import WebDriverWait\n",
    "from selenium.webdriver.chrome.options import Options\n",
    "from bs4 import BeautifulSoup\n",
    "import os\n",
    "import sys\n",
    "from dotenv import load_dotenv\n",
    "load_dotenv()"
   ]
  },
  {
   "cell_type": "code",
   "execution_count": 11,
   "id": "27e6002d-1751-465d-838d-a172505e5441",
   "metadata": {},
   "outputs": [],
   "source": [
    "sys.path.append(os.getenv('scraper_path'))\n",
    "from YT_Scrapy import YtScraper\n",
    "scrapper = YtScraper()"
   ]
  },
  {
   "cell_type": "code",
   "execution_count": 13,
   "id": "e33bd010-b21b-41e8-849b-e766583e012d",
   "metadata": {},
   "outputs": [],
   "source": [
    "# def scroll_down(driver):\n",
    "#     last_height = driver.execute_script(\"return window.scrollY;\")\n",
    "#     while True:\n",
    "#         driver.find_element(\"tag name\", \"body\").send_keys(Keys.END)\n",
    "#         # driver.implicitly_wait(20)\n",
    "#         time.sleep(5)\n",
    "#         new_height = driver.execute_script(\"return window.scrollY;\")\n",
    "        \n",
    "#         if new_height == last_height:\n",
    "#             # driver.find_element(\"tag name\", \"body\").send_keys(Keys.END)\n",
    "#             break\n",
    "#         last_height = new_height\n",
    "\n",
    "def get_video_id(driver,url:str):\n",
    "    def scroll_down(driver):\n",
    "        last_height = driver.execute_script(\"return window.scrollY;\")\n",
    "        while True:\n",
    "            driver.find_element(\"tag name\", \"body\").send_keys(Keys.END)\n",
    "            # driver.implicitly_wait(20)\n",
    "            time.sleep(5)\n",
    "            new_height = driver.execute_script(\"return window.scrollY;\")\n",
    "            \n",
    "            if new_height == last_height:\n",
    "                # driver.find_element(\"tag name\", \"body\").send_keys(Keys.END)\n",
    "                break\n",
    "            last_height = new_height\n",
    "    live_url = url+'/streams'\n",
    "    shorts_url = url+'/shorts'\n",
    "    vod_url = url+'/videos'\n",
    "    driver.get(live_url)\n",
    "    driver.implicitly_wait(15)\n",
    "    scroll_down(driver)\n",
    "    soup = BeautifulSoup(driver.page_source, 'html.parser')\n",
    "    # tmp = soup.find('div', {'id':'contents','class':'style-scope ytd-rich-grid-renderer'})\n",
    "    data = soup.find_all('a',{'id':'thumbnail','class':'yt-simple-endpoint inline-block style-scope ytd-thumbnail'})\n",
    "    live_video_id = []\n",
    "    for datas in data:\n",
    "        href = datas.get('href')\n",
    "        if href:\n",
    "            live_video_id.append(href.removeprefix('/watch?v='))\n",
    "    # del soup,data\n",
    "    driver.get(shorts_url)\n",
    "    driver.implicitly_wait(15)\n",
    "    scroll_down(driver)\n",
    "    soup = BeautifulSoup(driver.page_source, 'html.parser') \n",
    "    # tmp = soup.find('div', {'id':'contents','class':'style-scope ytd-rich-grid-renderer'})\n",
    "    data = soup.find_all('a', {'class':'ShortsLockupViewModelHostEndpoint reel-item-endpoint'})\n",
    "    shorts_id = []\n",
    "    for datas in data:\n",
    "        href = datas.get('href')\n",
    "        if href:\n",
    "            shorts_id.append(href.removeprefix('/shorts/'))\n",
    "    # del soup,data\n",
    "    driver.get(vod_url)\n",
    "    scroll_down(driver)\n",
    "    soup = BeautifulSoup(driver.page_source, 'html.parser')\n",
    "    data = soup.find_all('a',{'id':'thumbnail','class':'yt-simple-endpoint inline-block style-scope ytd-thumbnail'})\n",
    "    vod_id = []\n",
    "    for datas in data:\n",
    "        href = datas.get('href')\n",
    "        if href:\n",
    "            vod_id.append(href.removeprefix('/watch?v='))\n",
    "    final_data = {\n",
    "        'live':live_video_id,\n",
    "        'shorts':shorts_id,\n",
    "        'vod':vod_id\n",
    "    }\n",
    "    del live_video_id,shorts_id,vod_id\n",
    "    return final_data"
   ]
  },
  {
   "cell_type": "code",
   "execution_count": 28,
   "id": "8535616c-f1c8-47bf-b0a7-3237f238d135",
   "metadata": {},
   "outputs": [],
   "source": [
    "# Driver Options\n",
    "chrome_options = Options()\n",
    "chrome_options.add_argument(\"--headless\")\n",
    "chrome_options.add_argument(\"--disable-gpu\")\n",
    "chrome_options.add_argument(\"--no-sandbox\")\n",
    "chrome_options.add_argument(\"--disable-dev-shm-usage\")\n",
    "\n",
    "PATH = \"C:/Program Files/chromedriver.exe\"\n",
    "SERVICE = Service(PATH)\n",
    "DRIVER = webdriver.Chrome(service=SERVICE,options=chrome_options)\n",
    "YT_ID = '@cecilialieberia'\n",
    "URL = 'http://www.youtube.com/'+YT_ID\n",
    "video_ids = get_video_id(url=URL,driver=DRIVER)"
   ]
  },
  {
   "cell_type": "code",
   "execution_count": 29,
   "id": "008c4585-976b-4c78-a386-2dfb975e3145",
   "metadata": {},
   "outputs": [
    {
     "data": {
      "text/plain": [
       "dict_keys(['live', 'shorts', 'vod'])"
      ]
     },
     "execution_count": 29,
     "metadata": {},
     "output_type": "execute_result"
    }
   ],
   "source": [
    "video_ids.keys()"
   ]
  },
  {
   "cell_type": "code",
   "execution_count": 34,
   "id": "50836a09-88bd-4519-ad90-a7d8d536888c",
   "metadata": {},
   "outputs": [],
   "source": [
    "ch_data = scrapper.scrape_channel_basic_data(YT_ID)"
   ]
  },
  {
   "cell_type": "code",
   "execution_count": 38,
   "id": "afa91a37-3a3c-46cf-adf6-bb451e8d91a1",
   "metadata": {},
   "outputs": [],
   "source": [
    "ch_data['date_created(UTC)'] = str(ch_data['date_created(UTC)'])"
   ]
  },
  {
   "cell_type": "code",
   "execution_count": 40,
   "id": "ca8cfe62-1ccc-48fc-ad6d-105836ee32a1",
   "metadata": {},
   "outputs": [],
   "source": [
    "with open('data/ch_data.json', 'w') as json_file:\n",
    "    json.dump(ch_data, json_file, indent=4)"
   ]
  },
  {
   "cell_type": "code",
   "execution_count": 42,
   "id": "3ff70a57-50d5-4dd5-af45-d220b3725042",
   "metadata": {},
   "outputs": [],
   "source": [
    "for key in video_ids.keys():\n",
    "    video_data = scrapper.scrape_video_data(video_ids.get(key))\n",
    "    video_data['video_type'] = key\n",
    "    video_data.to_csv(f'data/data_{key}.csv',index=False)"
   ]
  }
 ],
 "metadata": {
  "kernelspec": {
   "display_name": "Python 3 (ipykernel)",
   "language": "python",
   "name": "python3"
  },
  "language_info": {
   "codemirror_mode": {
    "name": "ipython",
    "version": 3
   },
   "file_extension": ".py",
   "mimetype": "text/x-python",
   "name": "python",
   "nbconvert_exporter": "python",
   "pygments_lexer": "ipython3",
   "version": "3.12.3"
  }
 },
 "nbformat": 4,
 "nbformat_minor": 5
}
